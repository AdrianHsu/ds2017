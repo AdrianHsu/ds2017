{
 "cells": [
  {
   "cell_type": "code",
   "execution_count": 6,
   "metadata": {},
   "outputs": [],
   "source": [
    "import sys, ssl, urllib\n",
    "import matplotlib.pyplot as plt"
   ]
  },
  {
   "cell_type": "code",
   "execution_count": 7,
   "metadata": {},
   "outputs": [],
   "source": [
    "ssl._create_default_https_context = ssl._create_unverified_context"
   ]
  },
  {
   "cell_type": "code",
   "execution_count": 8,
   "metadata": {},
   "outputs": [
    {
     "name": "stdout",
     "output_type": "stream",
     "text": [
      "b'class,male population,male smoke percentage,female population,female smoke percentage\\nEducation level,,,,\\nelementary school and below,1596.00 ,25.30 ,2781.00 ,1.70 \\njunior high,1264.00 ,49.60 ,1498.00 ,10.60 \\nsenior high,3136.00 ,28.70 ,3734.00 ,6.50 \\nuniversity,2881.00 ,11.70 ,3249.00 ,1.00 \\ngraduate school and above,964.00 ,4.60 ,659.00 ,0.00 \\nAverage monthly income,,,,\\n20000 and below,3737.00 ,20.20 ,6382.00 ,2.50 \\n20001-40000,3431.00 ,33.90 ,4278.00 ,6.80 \\n40001 and above,3615.00 ,35.60 ,2227.00 ,5.50 \\nWorking environment,,,,\\nindoor,3739.00 ,32.40 ,4732.00 ,3.60 \\noutdoor,1773.00 ,40.90 ,635.00 ,9.00 \\nunemployed,1595.00 ,29.50 ,4114.00 ,4.70 \\n'\n"
     ]
    }
   ],
   "source": [
    "url = \"https://ceiba.ntu.edu.tw/course/481ea4/hw1_data.csv\"\n",
    "# ref: http://www.gegugu.com/2016/12/28/23379.html\n",
    "resp = urllib.request.urlopen(url)\n",
    "resp_info = resp.read()\n",
    "print(resp_info)"
   ]
  },
  {
   "cell_type": "code",
   "execution_count": 40,
   "metadata": {},
   "outputs": [
    {
     "data": {
      "image/png": "[encoded data removed]",
      "text/plain": [
       "<matplotlib.figure.Figure at 0x108769128>"
      ]
     },
     "metadata": {},
     "output_type": "display_data"
    }
   ],
   "source": [
    "y = [3, 10, 7, 5, 3, 4.5, 6, 8.1]\n",
    "N = len(y)\n",
    "x = range(N)\n",
    "width = 0.35\n",
    "plt.bar(x, y, width, color=\"blue\")\n",
    "\n",
    "\n",
    "plt.show()\n"
   ]
  },
  {
   "cell_type": "code",
   "execution_count": null,
   "metadata": {},
   "outputs": [],
   "source": []
  }
 ],
 "metadata": {
  "kernelspec": {
   "display_name": "Python 3",
   "language": "python",
   "name": "python3"
  },
  "language_info": {
   "codemirror_mode": {
    "name": "ipython",
    "version": 3
   },
   "file_extension": ".py",
   "mimetype": "text/x-python",
   "name": "python",
   "nbconvert_exporter": "python",
   "pygments_lexer": "ipython3",
   "version": "3.6.0"
  }
 },
 "nbformat": 4,
 "nbformat_minor": 2
}
