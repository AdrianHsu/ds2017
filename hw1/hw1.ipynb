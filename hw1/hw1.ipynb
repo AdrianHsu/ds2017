{
 "cells": [
  {
   "cell_type": "code",
   "execution_count": 1,
   "metadata": {},
   "outputs": [],
   "source": [
    "import sys, ssl, urllib\n",
    "import matplotlib.pyplot as plt"
   ]
  },
  {
   "cell_type": "code",
   "execution_count": 2,
   "metadata": {},
   "outputs": [],
   "source": [
    "ssl._create_default_https_context = ssl._create_unverified_context"
   ]
  },
  {
   "cell_type": "code",
   "execution_count": 62,
   "metadata": {},
   "outputs": [],
   "source": [
    "url = \"https://ceiba.ntu.edu.tw/course/481ea4/hw1_data.csv\"\n",
    "# ref: http://www.gegugu.com/2016/12/28/23379.html\n",
    "resp = urllib.request.urlopen(url)\n",
    "resp_byte = resp.read()\n",
    "dat_raw = resp_byte.decode(\"utf-8\")\n",
    "class_dict = dict({\"E\":\"Education Level\", \"A\":\"Average Monthly Income\", \"W\":\"Working Environment\"})\n",
    "e_level = [\"elementary school and below\", \"junior high\", \"senior high\", \"university\", \"graduate school and above\"]\n",
    "type_dict = dict({\"l\":\"Line Chart\", \"b\":\"Bar Chart\", \"p\":\"Pie Chart\"})"
   ]
  },
  {
   "cell_type": "code",
   "execution_count": 10,
   "metadata": {},
   "outputs": [
    {
     "name": "stdout",
     "output_type": "stream",
     "text": [
      "['class,male population,male smoke percentage,female population,female smoke percentage', 'Education level,,,,', 'elementary school and below,1596.00 ,25.30 ,2781.00 ,1.70 ', 'junior high,1264.00 ,49.60 ,1498.00 ,10.60 ', 'senior high,3136.00 ,28.70 ,3734.00 ,6.50 ', 'university,2881.00 ,11.70 ,3249.00 ,1.00 ', 'graduate school and above,964.00 ,4.60 ,659.00 ,0.00 ', 'Average monthly income,,,,', '20000 and below,3737.00 ,20.20 ,6382.00 ,2.50 ', '20001-40000,3431.00 ,33.90 ,4278.00 ,6.80 ', '40001 and above,3615.00 ,35.60 ,2227.00 ,5.50 ', 'Working environment,,,,', 'indoor,3739.00 ,32.40 ,4732.00 ,3.60 ', 'outdoor,1773.00 ,40.90 ,635.00 ,9.00 ', 'unemployed,1595.00 ,29.50 ,4114.00 ,4.70 ', '']\n"
     ]
    }
   ],
   "source": [
    "dat = dat_raw.split(\"\\n\")\n",
    "print(dat)"
   ]
  },
  {
   "cell_type": "code",
   "execution_count": 30,
   "metadata": {},
   "outputs": [],
   "source": [
    "myclass = dat[0].split(\",\")\n",
    "# ee = dat[2].split(\",\")\n",
    "# ej = dat[3].split(\",\")\n",
    "# es = dat[4].split(\",\")\n",
    "# eu = dat[5].split(\",\")\n",
    "# eg = dat[6].split(\",\")\n",
    "# a2 = dat[8].split(\",\")\n",
    "# a4 = dat[9].split(\",\")\n",
    "# a6 = dat[10].split(\",\")\n",
    "# wi = dat[12].split(\",\")\n",
    "# wo = dat[13].split(\",\")\n",
    "# wu = dat[14].split(\",\")\n",
    "arr = []\n",
    "for i in [2, 3, 4, 5, 6, 8, 9, 10, 12, 13, 14]:\n",
    "    tmp = dat[i].split(\",\")\n",
    "    tmp.pop(0)\n",
    "    tmp2 = [float(i) for i in tmp]\n",
    "    arr.append(tmp2)"
   ]
  },
  {
   "cell_type": "code",
   "execution_count": 84,
   "metadata": {},
   "outputs": [
    {
     "data": {
      "text/plain": [
       "[[1596.0, 25.3, 2781.0, 1.7],\n",
       " [1264.0, 49.6, 1498.0, 10.6],\n",
       " [3136.0, 28.7, 3734.0, 6.5],\n",
       " [2881.0, 11.7, 3249.0, 1.0],\n",
       " [964.0, 4.6, 659.0, 0.0],\n",
       " [3737.0, 20.2, 6382.0, 2.5],\n",
       " [3431.0, 33.9, 4278.0, 6.8],\n",
       " [3615.0, 35.6, 2227.0, 5.5],\n",
       " [3739.0, 32.4, 4732.0, 3.6],\n",
       " [1773.0, 40.9, 635.0, 9.0],\n",
       " [1595.0, 29.5, 4114.0, 4.7]]"
      ]
     },
     "execution_count": 84,
     "metadata": {},
     "output_type": "execute_result"
    }
   ],
   "source": [
    "arr"
   ]
  },
  {
   "cell_type": "code",
   "execution_count": 99,
   "metadata": {},
   "outputs": [
    {
     "data": {
      "image/png": "[encoded data removed]",
      "text/plain": [
       "<matplotlib.figure.Figure at 0x108610ac8>"
      ]
     },
     "metadata": {},
     "output_type": "display_data"
    }
   ],
   "source": [
    " \n",
    "# data to plot\n",
    "n_groups = 5\n",
    "d1 = (arr[0][1], arr[1][1],arr[2][1],arr[3][1],arr[4][1])\n",
    "d2 = (arr[0][3], arr[1][3],arr[2][3],arr[3][3],arr[4][3])\n",
    "d3 = []\n",
    "for i in range(n_groups):\n",
    "    d3.append((arr[i][0] * arr[i][1] + arr[i][2] * arr[i][3]) / (arr[i][0] + arr[i][2]))\n",
    "\n",
    "# create plot\n",
    "fig, ax = plt.subplots()\n",
    "index = np.arange(n_groups)\n",
    "bar_width = 0.15\n",
    "opacity = 0.8\n",
    " \n",
    "rects1 = plt.bar(index, d1, bar_width,\n",
    "                 alpha=opacity,\n",
    "                 color='b',\n",
    "                 label='Male')\n",
    " \n",
    "rects2 = plt.bar(index + bar_width, d2, bar_width,\n",
    "                 alpha=opacity,\n",
    "                 color='r',\n",
    "                 label='Female')\n",
    "\n",
    "rects3 = plt.bar(index + 2 * bar_width, d3, bar_width,\n",
    "                 alpha=opacity,\n",
    "                 color='g',\n",
    "                 label='Total')\n",
    " \n",
    "def autolabel(rects):\n",
    "    \"\"\"\n",
    "    Attach a text label above each bar displaying its height\n",
    "    \"\"\"\n",
    "    for rect in rects:\n",
    "        height = rect.get_height()\n",
    "        ax.text(rect.get_x() + rect.get_width()/2., 1.05*height,\n",
    "                '%d' % float(height),\n",
    "                ha='center', va='bottom')\n",
    "\n",
    "autolabel(rects1)\n",
    "autolabel(rects2)\n",
    "autolabel(rects3)\n",
    "\n",
    "plt.xlabel('Education Level')\n",
    "plt.ylabel('Smoking Percentage (%)')\n",
    "plt.title('Smoking Percentage v.s.' + \"Education Level\")\n",
    "plt.xticks(index + bar_width, (e_level[0],e_level[1],e_level[2],e_level[3],e_level[4]))\n",
    "plt.legend()\n",
    " \n",
    "plt.tight_layout()\n",
    "plt.show()"
   ]
  },
  {
   "cell_type": "code",
   "execution_count": 95,
   "metadata": {},
   "outputs": [
    {
     "data": {
      "text/plain": [
       "10.305346127484578"
      ]
     },
     "execution_count": 95,
     "metadata": {},
     "output_type": "execute_result"
    }
   ],
   "source": []
  },
  {
   "cell_type": "code",
   "execution_count": null,
   "metadata": {},
   "outputs": [],
   "source": []
  }
 ],
 "metadata": {
  "kernelspec": {
   "display_name": "Python 3",
   "language": "python",
   "name": "python3"
  },
  "language_info": {
   "codemirror_mode": {
    "name": "ipython",
    "version": 3
   },
   "file_extension": ".py",
   "mimetype": "text/x-python",
   "name": "python",
   "nbconvert_exporter": "python",
   "pygments_lexer": "ipython3",
   "version": "3.6.0"
  }
 },
 "nbformat": 4,
 "nbformat_minor": 2
}
