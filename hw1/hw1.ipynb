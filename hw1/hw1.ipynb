{
 "cells": [
  {
   "cell_type": "code",
   "execution_count": 1,
   "metadata": {},
   "outputs": [],
   "source": [
    "import sys, ssl, urllib\n",
    "import matplotlib.pyplot as plt"
   ]
  },
  {
   "cell_type": "code",
   "execution_count": 2,
   "metadata": {},
   "outputs": [],
   "source": [
    "ssl._create_default_https_context = ssl._create_unverified_context"
   ]
  },
  {
   "cell_type": "code",
   "execution_count": 15,
   "metadata": {},
   "outputs": [],
   "source": [
    "url = \"https://ceiba.ntu.edu.tw/course/481ea4/hw1_data.csv\"\n",
    "# ref: http://www.gegugu.com/2016/12/28/23379.html\n",
    "resp = urllib.request.urlopen(url)\n",
    "resp_byte = resp.read()\n",
    "dat_raw = resp_byte.decode(\"utf-8\")\n",
    "class_arr = [\"Education Level\", \"Average Monthly Income\",\"Working Environment\"]\n",
    "e_level = [\"elementary school and below\", \"junior high\", \"senior high\", \"university\", \"graduate school and above\"]\n",
    "a_level = [\"20000 and below\", \"20001-40000\", \"40001 and above\"]\n",
    "w_level = [\"indoor\", \"outdoor\", \"unemployed\"]\n",
    "type_dict = dict({\"l\":\"Line Chart\", \"b\":\"Bar Chart\", \"p\":\"Pie Chart\"})"
   ]
  },
  {
   "cell_type": "code",
   "execution_count": 4,
   "metadata": {},
   "outputs": [
    {
     "name": "stdout",
     "output_type": "stream",
     "text": [
      "['class,male population,male smoke percentage,female population,female smoke percentage', 'Education level,,,,', 'elementary school and below,1596.00 ,25.30 ,2781.00 ,1.70 ', 'junior high,1264.00 ,49.60 ,1498.00 ,10.60 ', 'senior high,3136.00 ,28.70 ,3734.00 ,6.50 ', 'university,2881.00 ,11.70 ,3249.00 ,1.00 ', 'graduate school and above,964.00 ,4.60 ,659.00 ,0.00 ', 'Average monthly income,,,,', '20000 and below,3737.00 ,20.20 ,6382.00 ,2.50 ', '20001-40000,3431.00 ,33.90 ,4278.00 ,6.80 ', '40001 and above,3615.00 ,35.60 ,2227.00 ,5.50 ', 'Working environment,,,,', 'indoor,3739.00 ,32.40 ,4732.00 ,3.60 ', 'outdoor,1773.00 ,40.90 ,635.00 ,9.00 ', 'unemployed,1595.00 ,29.50 ,4114.00 ,4.70 ', '']\n"
     ]
    }
   ],
   "source": [
    "dat = dat_raw.split(\"\\n\")\n",
    "print(dat)"
   ]
  },
  {
   "cell_type": "code",
   "execution_count": 5,
   "metadata": {},
   "outputs": [],
   "source": [
    "myclass = dat[0].split(\",\")\n",
    "# ee = dat[2].split(\",\")\n",
    "# ej = dat[3].split(\",\")\n",
    "# es = dat[4].split(\",\")\n",
    "# eu = dat[5].split(\",\")\n",
    "# eg = dat[6].split(\",\")\n",
    "# a2 = dat[8].split(\",\")\n",
    "# a4 = dat[9].split(\",\")\n",
    "# a6 = dat[10].split(\",\")\n",
    "# wi = dat[12].split(\",\")\n",
    "# wo = dat[13].split(\",\")\n",
    "# wu = dat[14].split(\",\")\n",
    "arr = []\n",
    "for i in [2, 3, 4, 5, 6, 8, 9, 10, 12, 13, 14]:\n",
    "    tmp = dat[i].split(\",\")\n",
    "    tmp.pop(0)\n",
    "    tmp2 = [float(i) for i in tmp]\n",
    "    arr.append(tmp2)"
   ]
  },
  {
   "cell_type": "code",
   "execution_count": 17,
   "metadata": {},
   "outputs": [],
   "source": [
    "def print_bar(mytype):\n",
    "\n",
    "    n_groups = 5\n",
    "    shift = 0\n",
    "    \n",
    "    if mytype == 0:\n",
    "        n_groups = 5\n",
    "        shift = 0\n",
    "    elif mytype == 1:\n",
    "        n_groups = 3\n",
    "        shift = 5\n",
    "    elif mytype == 2:\n",
    "        n_groups = 3\n",
    "        shift = 8\n",
    "\n",
    "    d1 = []\n",
    "    d2 = []\n",
    "    for i in range(0, n_groups):\n",
    "        d1.append(arr[i + shift][1])\n",
    "        d2.append(arr[i + shift][3])\n",
    "    d3 = []\n",
    "    for i in range(n_groups):\n",
    "        d3.append((arr[i][0] * arr[i][1] + arr[i][2] * arr[i][3]) / (arr[i][0] + arr[i][2]))\n",
    "\n",
    "    # create plot\n",
    "    fig, ax = plt.subplots()\n",
    "    ind = []\n",
    "    for i in range(0, n_groups):\n",
    "        ind.append(i)\n",
    "    bar_width = 0.15\n",
    "    opacity = 0.8\n",
    "\n",
    "    rects1 = plt.bar(ind, d1, bar_width,\n",
    "                     alpha=opacity,\n",
    "                     color='b',\n",
    "                     label='Male')\n",
    "    for i in range(0, n_groups):\n",
    "        ind[i] += 0.2\n",
    "    rects2 = plt.bar(ind, d2, bar_width,\n",
    "                     alpha=opacity,\n",
    "                     color='r',\n",
    "                     label='Female')\n",
    "    for i in range(0, n_groups):\n",
    "        ind[i] += 0.2\n",
    "    rects3 = plt.bar(ind, d3, bar_width,\n",
    "                     alpha=opacity,\n",
    "                     color='g',\n",
    "                     label='Total')\n",
    "\n",
    "    def autolabel(rects):\n",
    "        \"\"\"\n",
    "        Attach a text label above each bar displaying its height\n",
    "        \"\"\"\n",
    "        for rect in rects:\n",
    "            height = rect.get_height()\n",
    "            ax.text(rect.get_x() + rect.get_width()/2., 1.05*height,\n",
    "                    '%.1f' % float(height),\n",
    "                    ha='center', va='bottom')\n",
    "\n",
    "    autolabel(rects1)\n",
    "    autolabel(rects2)\n",
    "    autolabel(rects3)\n",
    "\n",
    "    plt.xlabel(class_arr[mytype])\n",
    "    plt.ylabel('Smoking Percentage (%)')\n",
    "    plt.title('Smoking Percentage v.s. ' + class_arr[mytype])\n",
    "    if mytype == 0:\n",
    "        plt.xticks(ind, (e_level[0],e_level[1],e_level[2],e_level[3],e_level[4]))\n",
    "    elif mytype == 1:\n",
    "        plt.xticks(ind, (a_level[0], a_level[1], a_level[2]))\n",
    "    elif mytype == 2:\n",
    "        plt.xticks(ind, (w_level[0], w_level[1], w_level[2]))\n",
    "    plt.legend()\n",
    "\n",
    "    plt.tight_layout()\n",
    "    plt.show()"
   ]
  },
  {
   "cell_type": "code",
   "execution_count": 20,
   "metadata": {},
   "outputs": [
    {
     "data": {
      "image/png": "[encoded data removed]",
      "text/plain": [
       "<matplotlib.figure.Figure at 0x1089625c0>"
      ]
     },
     "metadata": {},
     "output_type": "display_data"
    }
   ],
   "source": [
    "print_bar(2)"
   ]
  },
  {
   "cell_type": "code",
   "execution_count": null,
   "metadata": {},
   "outputs": [],
   "source": []
  }
 ],
 "metadata": {
  "kernelspec": {
   "display_name": "Python 3",
   "language": "python",
   "name": "python3"
  },
  "language_info": {
   "codemirror_mode": {
    "name": "ipython",
    "version": 3
   },
   "file_extension": ".py",
   "mimetype": "text/x-python",
   "name": "python",
   "nbconvert_exporter": "python",
   "pygments_lexer": "ipython3",
   "version": "3.6.0"
  }
 },
 "nbformat": 4,
 "nbformat_minor": 2
}
