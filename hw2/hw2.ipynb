{
 "cells": [
  {
   "cell_type": "code",
   "execution_count": 4,
   "metadata": {},
   "outputs": [],
   "source": [
    "import sklearn\n",
    "from sklearn import datasets, linear_model\n",
    "import pandas as pd\n",
    "\n",
    "# Spam letter classification\n",
    "# Use the sklearn library to determine whether a letter is spam letter or not."
   ]
  },
  {
   "cell_type": "code",
   "execution_count": 26,
   "metadata": {},
   "outputs": [
    {
     "data": {
      "text/plain": [
       "LinearRegression(copy_X=True, fit_intercept=True, n_jobs=1, normalize=False)"
      ]
     },
     "execution_count": 26,
     "metadata": {},
     "output_type": "execute_result"
    }
   ],
   "source": [
    "# 以下是筆記\n",
    "\n",
    "# Clustering:\n",
    "# SVM, K-means, DBScan\n",
    "# Classification:\n",
    "# NN, decision tree, KNN, naive bayes\n",
    "\n",
    "# 這種datasets.load_bla 是內建的，不用上網fetch資料\n",
    "# datasets.load_iris([return_X_y=False])\n",
    "\n",
    "# EX:\n",
    "boston = datasets.load_boston()\n",
    "boston.keys()\n",
    "boston.feature_names\n",
    "\n",
    "# Linear Regression\n",
    "\n",
    "# first, initialize the model\n",
    "lr = linear_model.LinearRegression(\n",
    "    fit_intercept=True, \n",
    "    normalize=False,\n",
    "    copy_X = True,\n",
    "    n_jobs=1)\n",
    "X = boston.data\n",
    "y = boston.target\n",
    "\n",
    "lr.fit(X, y, sample_weight=None)\n",
    "\n"
   ]
  },
  {
   "cell_type": "code",
   "execution_count": 27,
   "metadata": {},
   "outputs": [
    {
     "data": {
      "text/html": [
       "<div>\n",
       "<style>\n",
       "    .dataframe thead tr:only-child th {\n",
       "        text-align: right;\n",
       "    }\n",
       "\n",
       "    .dataframe thead th {\n",
       "        text-align: left;\n",
       "    }\n",
       "\n",
       "    .dataframe tbody tr th {\n",
       "        vertical-align: top;\n",
       "    }\n",
       "</style>\n",
       "<table border=\"1\" class=\"dataframe\">\n",
       "  <thead>\n",
       "    <tr style=\"text-align: right;\">\n",
       "      <th></th>\n",
       "      <th>Feature</th>\n",
       "      <th>Correlation</th>\n",
       "    </tr>\n",
       "  </thead>\n",
       "  <tbody>\n",
       "    <tr>\n",
       "      <th>0</th>\n",
       "      <td>CRIM</td>\n",
       "      <td>-0.107171</td>\n",
       "    </tr>\n",
       "    <tr>\n",
       "      <th>1</th>\n",
       "      <td>ZN</td>\n",
       "      <td>0.046395</td>\n",
       "    </tr>\n",
       "    <tr>\n",
       "      <th>2</th>\n",
       "      <td>INDUS</td>\n",
       "      <td>0.020860</td>\n",
       "    </tr>\n",
       "    <tr>\n",
       "      <th>3</th>\n",
       "      <td>CHAS</td>\n",
       "      <td>2.688561</td>\n",
       "    </tr>\n",
       "    <tr>\n",
       "      <th>4</th>\n",
       "      <td>NOX</td>\n",
       "      <td>-17.795759</td>\n",
       "    </tr>\n",
       "    <tr>\n",
       "      <th>5</th>\n",
       "      <td>RM</td>\n",
       "      <td>3.804752</td>\n",
       "    </tr>\n",
       "    <tr>\n",
       "      <th>6</th>\n",
       "      <td>AGE</td>\n",
       "      <td>0.000751</td>\n",
       "    </tr>\n",
       "    <tr>\n",
       "      <th>7</th>\n",
       "      <td>DIS</td>\n",
       "      <td>-1.475759</td>\n",
       "    </tr>\n",
       "    <tr>\n",
       "      <th>8</th>\n",
       "      <td>RAD</td>\n",
       "      <td>0.305655</td>\n",
       "    </tr>\n",
       "    <tr>\n",
       "      <th>9</th>\n",
       "      <td>TAX</td>\n",
       "      <td>-0.012329</td>\n",
       "    </tr>\n",
       "    <tr>\n",
       "      <th>10</th>\n",
       "      <td>PTRATIO</td>\n",
       "      <td>-0.953464</td>\n",
       "    </tr>\n",
       "    <tr>\n",
       "      <th>11</th>\n",
       "      <td>B</td>\n",
       "      <td>0.009393</td>\n",
       "    </tr>\n",
       "    <tr>\n",
       "      <th>12</th>\n",
       "      <td>LSTAT</td>\n",
       "      <td>-0.525467</td>\n",
       "    </tr>\n",
       "  </tbody>\n",
       "</table>\n",
       "</div>"
      ],
      "text/plain": [
       "    Feature  Correlation\n",
       "0      CRIM    -0.107171\n",
       "1        ZN     0.046395\n",
       "2     INDUS     0.020860\n",
       "3      CHAS     2.688561\n",
       "4       NOX   -17.795759\n",
       "5        RM     3.804752\n",
       "6       AGE     0.000751\n",
       "7       DIS    -1.475759\n",
       "8       RAD     0.305655\n",
       "9       TAX    -0.012329\n",
       "10  PTRATIO    -0.953464\n",
       "11        B     0.009393\n",
       "12    LSTAT    -0.525467"
      ]
     },
     "execution_count": 27,
     "metadata": {},
     "output_type": "execute_result"
    }
   ],
   "source": [
    "# type(lr.coef_) is nd.array\n",
    "myzip = zip(boston.feature_names, lr.coef_)\n",
    "pd.DataFrame(list(myzip), \n",
    "             columns=[\"Feature\", \"Correlation\"])\n",
    "\n",
    "# 看出來 \"feature RM\" is highly correlated to the target (3.8多)"
   ]
  },
  {
   "cell_type": "code",
   "execution_count": 28,
   "metadata": {},
   "outputs": [
    {
     "data": {
      "image/png": "[encoded data removed]",
      "text/plain": [
       "<matplotlib.figure.Figure at 0x107630630>"
      ]
     },
     "metadata": {},
     "output_type": "display_data"
    }
   ],
   "source": [
    "from matplotlib import pyplot as plt\n",
    "plt.scatter(X[:,5], y) # X[:, 5] 是 RM\n",
    "plt.xlabel(\"Average number of room per dwelling (RM)\")\n",
    "plt.ylabel(\"Housing Price\")\n",
    "plt.title(\"Relationship between RM and Price\")\n",
    "plt.show()"
   ]
  },
  {
   "cell_type": "code",
   "execution_count": 29,
   "metadata": {},
   "outputs": [
    {
     "name": "stdout",
     "output_type": "stream",
     "text": [
      "[ 30.00821269  25.0298606   30.5702317   28.60814055  27.94288232]\n"
     ]
    },
    {
     "data": {
      "image/png": "[encoded data removed]",
      "text/plain": [
       "<matplotlib.figure.Figure at 0x109724c50>"
      ]
     },
     "metadata": {},
     "output_type": "display_data"
    }
   ],
   "source": [
    "predictY = lr.predict(X) # 用來 predict training data\n",
    "print(predictY[0:5]) # v.s. y[0:5]\n",
    "plt.scatter(predictY, y)\n",
    "plt.xlabel(\"Predicted Price\")\n",
    "plt.ylabel(\"Real Price\")\n",
    "plt.title(\"Relation between the predicted and real price\")\n",
    "plt.show()"
   ]
  },
  {
   "cell_type": "code",
   "execution_count": 30,
   "metadata": {},
   "outputs": [
    {
     "name": "stdout",
     "output_type": "stream",
     "text": [
      "(167, 13)\n"
     ]
    }
   ],
   "source": [
    "# Cross Validation 以某個比率切 data，會先打亂，切完後分成 train 和 test \n",
    "X_train, X_test, y_train, y_test = sklearn.model_selection.train_test_split(X, y, test_size = 0.33)\n",
    "print(X_test.shape)"
   ]
  },
  {
   "cell_type": "code",
   "execution_count": 19,
   "metadata": {},
   "outputs": [
    {
     "name": "stdout",
     "output_type": "stream",
     "text": [
      "(126, 4)\n",
      "0.97619047619\n",
      "0.958333333333\n"
     ]
    }
   ],
   "source": [
    "# predict IRIS dataset with Logistic Regression\n",
    "\n",
    "# 某些情況會需要「與這個class相似的機率多少？」,例如：這樣的徵兆有80%是癌症?\n",
    "# 這樣的分類稱之soft classification,\n",
    "# 典型處理soft classification的演算法Logistic Regression\n",
    "\n",
    "iris = datasets.load_iris()\n",
    "logr = linear_model.LogisticRegression( \n",
    "    penalty='l2', # try 'l1'\n",
    "    solver='liblinear', \n",
    "    multi_class='ovr', \n",
    "    verbose=0, \n",
    "    C=1e5, # 給了一個參數C ,該參數用於控制overfitting程度,數字越大,Regularization強度越低\n",
    "    n_jobs=1)\n",
    "\n",
    "Xtrain, Xtest, ytrain, ytest = sklearn.model_selection.train_test_split(iris.data, iris.target, test_size = 0.16)\n",
    "\n",
    "print(Xtrain.shape) #  (150, 4) -> (126, 4), 就是 150 * 0.84\n",
    "logr.fit(Xtrain, ytrain)\n",
    "print(logr.score(Xtrain, ytrain))\n",
    "print(logr.score(Xtest, ytest))"
   ]
  },
  {
   "cell_type": "code",
   "execution_count": 36,
   "metadata": {},
   "outputs": [
    {
     "name": "stdout",
     "output_type": "stream",
     "text": [
      "0.968253968254\n",
      "0.958333333333\n",
      "[0 2 0 0 1 0 2 2 2 1 2 2 2 1 0 1 1 1 0 2 1 2 2 0]\n",
      "[0 2 0 0 1 0 2 2 2 1 2 2 2 1 0 1 2 1 0 2 1 2 2 0]\n",
      "[[ 5.1  3.4  1.5  0.2]\n",
      " [ 7.7  2.8  6.7  2. ]\n",
      " [ 4.9  3.1  1.5  0.1]\n",
      " [ 5.   3.   1.6  0.2]\n",
      " [ 6.3  2.3  4.4  1.3]\n",
      " [ 5.2  3.4  1.4  0.2]\n",
      " [ 6.2  3.4  5.4  2.3]\n",
      " [ 6.4  2.8  5.6  2.2]\n",
      " [ 6.9  3.1  5.1  2.3]\n",
      " [ 5.   2.3  3.3  1. ]\n",
      " [ 5.6  2.8  4.9  2. ]\n",
      " [ 7.9  3.8  6.4  2. ]\n",
      " [ 7.1  3.   5.9  2.1]\n",
      " [ 5.2  2.7  3.9  1.4]\n",
      " [ 4.4  3.2  1.3  0.2]\n",
      " [ 6.6  2.9  4.6  1.3]\n",
      " [ 6.   2.2  5.   1.5]\n",
      " [ 6.9  3.1  4.9  1.5]\n",
      " [ 4.9  3.1  1.5  0.1]\n",
      " [ 6.3  2.7  4.9  1.8]\n",
      " [ 5.   2.   3.5  1. ]\n",
      " [ 7.2  3.   5.8  1.6]\n",
      " [ 6.7  3.3  5.7  2.1]\n",
      " [ 5.1  3.8  1.6  0.2]]\n",
      "[[  9.71442727e-01   2.85571986e-02   7.47136923e-08]\n",
      " [  7.16577749e-08   7.47184564e-03   9.92528083e-01]\n",
      " [  9.66633480e-01   3.33664440e-02   7.61373526e-08]\n",
      " [  9.48207392e-01   5.17924139e-02   1.94490234e-07]\n",
      " [  3.40077817e-03   9.20380407e-01   7.62188146e-02]\n",
      " [  9.74619825e-01   2.53801272e-02   4.75158465e-08]\n",
      " [  7.23494008e-05   4.69488642e-02   9.52978786e-01]\n",
      " [  1.52030404e-05   3.90583720e-02   9.60926425e-01]\n",
      " [  1.46805016e-04   1.43491800e-01   8.56361395e-01]\n",
      " [  1.37741585e-01   8.58959026e-01   3.29938944e-03]\n",
      " [  9.60840224e-04   2.29985951e-01   7.69053209e-01]\n",
      " [  1.07384833e-06   2.02652641e-02   9.79733662e-01]\n",
      " [  4.53891317e-06   3.50239827e-02   9.64971478e-01]\n",
      " [  4.91404932e-02   9.03725077e-01   4.71344299e-02]\n",
      " [  9.88096822e-01   1.19031501e-02   2.77444484e-08]\n",
      " [  3.32160948e-03   8.93823786e-01   1.02854605e-01]\n",
      " [  5.97556816e-04   5.25383790e-01   4.74018653e-01]\n",
      " [  1.28621328e-03   7.25787735e-01   2.72926052e-01]\n",
      " [  9.66633480e-01   3.33664440e-02   7.61373526e-08]\n",
      " [  8.28548702e-04   4.40001345e-01   5.59170106e-01]\n",
      " [  6.58031459e-02   9.27899035e-01   6.29781914e-03]\n",
      " [  2.63454727e-05   1.68414314e-01   8.31559340e-01]\n",
      " [  2.09805051e-05   4.80159748e-02   9.51963045e-01]\n",
      " [  9.78206844e-01   2.17930825e-02   7.30562923e-08]]\n"
     ]
    }
   ],
   "source": [
    "# 處理 multi-class 問題，有兩種演算法\n",
    "# 1. 一對剩下(one v.s. rest)：對於每一個class，拿來和剩下的全部比，幫這個class建model，所以共 n 個 models\n",
    "# 就是上方例子, the default value is “ovr”\n",
    "\n",
    "# 2. 一對一(one v.s. one)：對於每一個class，拿來和剩下的每一個class單獨比，所以有 n(n-1)/2 個 models\n",
    "# solver 要換成 newton-conjugate-gradient 才可以\n",
    "logr3 = linear_model.LogisticRegression(multi_class='multinomial', solver = 'newton-cg') \n",
    "logr3.fit(Xtrain, ytrain)\n",
    "print(logr3.score(Xtrain, ytrain))\n",
    "print(logr3.score(Xtest, ytest))\n",
    "\n",
    "# 好用： .predict() 生出最後的label\n",
    "print(logr3.predict(Xtest))\n",
    "print(ytest)\n",
    "# .predict_proba() 生出\n",
    "print(Xtest)\n",
    "print(logr3.predict_proba(Xtest)) # 在第 i 個 row，我猜他是label=0的機率是 9.7e-01, label=1的機率是 2.8e-02，label=2的...bla"
   ]
  },
  {
   "cell_type": "code",
   "execution_count": 40,
   "metadata": {},
   "outputs": [
    {
     "name": "stdout",
     "output_type": "stream",
     "text": [
      "(1797, 64)\n"
     ]
    },
    {
     "data": {
      "text/plain": [
       "array([0, 1, 2, 3, 4, 5, 6, 7, 8, 9])"
      ]
     },
     "execution_count": 40,
     "metadata": {},
     "output_type": "execute_result"
    }
   ],
   "source": [
    "import numpy as np\n",
    "# use SVM to classify hand-written digits\n",
    "digit = datasets.load_digits()\n",
    "print(digit.data.shape) # There are 1797 data and 64 attributes，因為 Each datapoint is a 8x8 image of a digit.\n",
    "np.unique(digit.target)"
   ]
  },
  {
   "cell_type": "code",
   "execution_count": 54,
   "metadata": {},
   "outputs": [
    {
     "name": "stdout",
     "output_type": "stream",
     "text": [
      "1.0\n",
      "0.972222222222\n"
     ]
    }
   ],
   "source": [
    "svc_model = sklearn.svm.SVC(\n",
    "C=1.0, # 這三個參數我亂調的\n",
    "kernel='linear',\n",
    "degree=3,\n",
    "gamma='auto', decision_function_shape='ovr')\n",
    "\n",
    "Xtrain, Xtest, ytrain, ytest = sklearn.model_selection.train_test_split(digit.data, digit.target, test_size = 0.16)\n",
    "\n",
    "svc_model.fit(Xtrain, ytrain)\n",
    "print(svc_model.score(Xtrain, ytrain))\n",
    "print(svc_model.score(Xtest, ytest))"
   ]
  },
  {
   "cell_type": "code",
   "execution_count": 55,
   "metadata": {},
   "outputs": [
    {
     "name": "stdout",
     "output_type": "stream",
     "text": [
      "Best score for training data: 0.9887342611000662\n",
      "Best `C`: 10\n",
      "Best kernel: rbf\n",
      "Best `gamma`: 0.001\n"
     ]
    }
   ],
   "source": [
    "# The grid search use brute force search to evaluate every possible combination of \"C, gamma and kernel type\"\n",
    "from sklearn.grid_search import GridSearchCV\n",
    "parameter_candidates = [\n",
    "{'C': [1, 10, 100, 1000], 'kernel': ['linear']},\n",
    "{'C': [1, 10, 100, 1000], 'gamma': [0.001, 0.0001], 'kernel': ['rbf']},]\n",
    "clf = GridSearchCV(estimator=svc_model, param_grid=parameter_candidates, n_jobs=-1)\n",
    "clf.fit(Xtrain, ytrain)\n",
    "\n",
    "print('Best score for training data:', clf.best_score_)\n",
    "print('Best `C`:',clf.best_estimator_.C)\n",
    "print('Best kernel:',clf.best_estimator_.kernel)\n",
    "print('Best `gamma`:',clf.best_estimator_.gamma)"
   ]
  },
  {
   "cell_type": "code",
   "execution_count": null,
   "metadata": {},
   "outputs": [],
   "source": []
  }
 ],
 "metadata": {
  "kernelspec": {
   "display_name": "Python 3",
   "language": "python",
   "name": "python3"
  },
  "language_info": {
   "codemirror_mode": {
    "name": "ipython",
    "version": 3
   },
   "file_extension": ".py",
   "mimetype": "text/x-python",
   "name": "python",
   "nbconvert_exporter": "python",
   "pygments_lexer": "ipython3",
   "version": "3.6.0"
  }
 },
 "nbformat": 4,
 "nbformat_minor": 2
}
